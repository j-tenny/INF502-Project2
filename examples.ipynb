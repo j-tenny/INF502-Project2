{
 "cells": [
  {
   "cell_type": "markdown",
   "source": [
    "## Working with gitdata objects..."
   ],
   "metadata": {
    "collapsed": false
   }
  },
  {
   "cell_type": "code",
   "execution_count": 1,
   "outputs": [
    {
     "name": "stdout",
     "output_type": "stream",
     "text": [
      "Repository(owner_name: jabref, repo_name: jabref, n_pull_requests: 30)\n"
     ]
    }
   ],
   "source": [
    "# Import classes and functions from gitdata.py\n",
    "import gitdata\n",
    "\n",
    "# Download repository data, store in Repository object\n",
    "jabref_repo = gitdata.Repository(owner_name='jabref',repo_name='jabref')\n",
    "\n",
    "# Repository object stores data and methods\n",
    "print(jabref_repo)"
   ],
   "metadata": {
    "collapsed": false,
    "ExecuteTime": {
     "end_time": "2023-11-27T18:05:09.986521100Z",
     "start_time": "2023-11-27T18:04:35.417858700Z"
    }
   }
  },
  {
   "cell_type": "code",
   "execution_count": 2,
   "outputs": [
    {
     "name": "stdout",
     "output_type": "stream",
     "text": [
      "<class 'tuple'>\n",
      "30\n",
      "Pull Request #10668: Bump org.mariadb.jdbc:mariadb-java-client from 2.7.9 to 3.3.0\n"
     ]
    }
   ],
   "source": [
    "# Pull requests are stored in a tuple within the Repository object\n",
    "print(type(jabref_repo.pull_requests))\n",
    "print(len(jabref_repo.pull_requests))\n",
    "print(jabref_repo.pull_requests[0])"
   ],
   "metadata": {
    "collapsed": false,
    "ExecuteTime": {
     "end_time": "2023-11-27T18:05:09.994329600Z",
     "start_time": "2023-11-27T18:05:09.994329600Z"
    }
   }
  },
  {
   "cell_type": "code",
   "execution_count": 3,
   "outputs": [
    {
     "name": "stdout",
     "output_type": "stream",
     "text": [
      "<class 'gitdata.PullRequest'>\n",
      "{'title': 'Bump org.mariadb.jdbc:mariadb-java-client from 2.7.9 to 3.3.0', 'number': 10668, 'body': 'Bumps [org.mariadb.jdbc:mariadb-java-client](https://github.com/mariadb-corporation/mariadb-connector-j) from 2.7.9 to 3.3.0.\\n<details>\\n<summary>Release notes</summary>\\n<p><em>Sourced from <a href=\"https://github.com/mariadb-corporation/mariadb-connector-j/releases\">org.mariadb.jdbc:mariadb-java-client\\'s releases</a>.</em></p>\\n<blockquote>\\n<h2>MariaDB Connector/Java 3.3.0</h2>\\n<h2><a href=\"https://github.com/mariadb-corporation/mariadb-connector-j/tree/3.3.0\">3.3.0</a> (Nov 2023)</h2>\\n<p><a href=\"https://github.com/mariadb-corporation/mariadb-connector-j/compare/3.2.0...3.3.0\">Full Changelog</a></p>\\n<h5>Notable Changes</h5>\\n<ul>\\n<li>CONJ-1115 Make connector become more virtual-thread friendly</li>\\n<li>CONJ-1108 Database metadata listing TEMPORARY tables/sequences</li>\\n<li>CONJ-1113 update ed25519 to recent version</li>\\n<li>CONJ-1116 Avoid unnecessary synchronization on calendar when no calendar parameter</li>\\n</ul>\\n<h5>Bugs Fixed</h5>\\n<ul>\\n<li>CONJ-1102 BatchUpdateException.getUpdateCounts() returns SUCCESS_NO_INFO but expects EXECUTE_FAILED</li>\\n</ul>\\n<h2>MariaDB Connector/Java 3.2.0</h2>\\n<h2><a href=\"https://github.com/mariadb-corporation/mariadb-connector-j/tree/3.2.0\">3.2.0</a> (Aug 2023)</h2>\\n<p><a href=\"https://github.com/mariadb-corporation/mariadb-connector-j/compare/3.1.4...3.2.0\">Full Changelog</a></p>\\n<h5>Notable Changes</h5>\\n<ul>\\n<li>CONJ-920 Java batched statements with optimistic locking failing. the option <code>useBulkStmts</code> is now disable by default, a new option <code>useBulkStmtsForInserts</code> is enable by default, permetting using bulk for INSERT commands only. This permits optimistic behavior working by default.</li>\\n<li>CONJ-1084\\tWhen using maxscale 23.08.0+, and a maxscale node fails, connector will now priorize reconnection to the maxscale node having less connection, to ensure repartition after failover</li>\\n<li>CONJ-1088\\tImplement <code>databaseTerm</code> option for mysql compatibility</li>\\n<li>CONJ-1096 adding option <code>useLocalSessionState</code> to permit avoiding queries when application only use JDBC methods.</li>\\n</ul>\\n<h5>Bugs Fixed</h5>\\n<ul>\\n<li>CONJ-1075 LOAD DATA INFILE is broken on windows</li>\\n<li>CONJ-1079 getGeneratedKeys after batch will not return all generated id\\'s if first batch command return no generated id.</li>\\n<li>CONJ-1080 maridb Java connector sslMode=verify-ca complaining unable to find trust certificate.</li>\\n<li>CONJ-1082 Multiple session system variables parsing fails</li>\\n<li>CONJ-1083\\tUsing /<em>client prepare</em>/ prefix to force client side prepared statement</li>\\n<li>CONJ-1091\\tcan\\'t make a connection when the Read Replica DB is in a hang state when SocketTimeout=0 set</li>\\n<li>CONJ-1092 ensure respecting server collation</li>\\n<li>CONJ-1094\\tMissing mariadb/mysql collation</li>\\n</ul>\\n<h2>MariaDB Connector/Java 3.1.4</h2>\\n<h2><a href=\"https://github.com/mariadb-corporation/mariadb-connector-j/tree/3.1.4\">3.1.4</a> (Apr 2023)</h2>\\n<p><a href=\"https://github.com/mariadb-corporation/mariadb-connector-j/compare/3.1.3...3.1.4\">Full Changelog</a></p>\\n<ul>\\n<li>CONJ-1065 wrong Resultset.wasNull() for zero-date timestamps</li>\\n<li>CONJ-1070\\tgetBlob on TEXT columns throw Exception</li>\\n<li>CONJ-1071\\tError response during Bulk execution might result in connection wrong state</li>\\n<li>CONJ-1067\\tWhen some numeric data types are set to UNSIGNED, ResultSetMetaData.getColumnTypeName() does not return UNSIGNED</li>\\n</ul>\\n<h2>MariaDB Connector/Java 3.1.3</h2>\\n<h2><a href=\"https://github.com/mariadb-corporation/mariadb-connector-j/tree/3.1.3\">3.1.3</a> (Mar 2023)</h2>\\n<p><a href=\"https://github.com/mariadb-corporation/mariadb-connector-j/compare/3.1.2...3.1.3\">Full Changelog</a></p>\\n<ul>\\n<li>CONJ-1054 Threadsafety issue when using CredentialPlugin in v3.x</li>\\n</ul>\\n<!-- raw HTML omitted -->\\n</blockquote>\\n<p>... (truncated)</p>\\n</details>\\n<details>\\n<summary>Changelog</summary>\\n<p><em>Sourced from <a href=\"https://github.com/mariadb-corporation/mariadb-connector-j/blob/master/CHANGELOG.md\">org.mariadb.jdbc:mariadb-java-client\\'s changelog</a>.</em></p>\\n<blockquote>\\n<h2><a href=\"https://github.com/mariadb-corporation/mariadb-connector-j/tree/3.3.0\">3.3.0</a> (Nov 2023)</h2>\\n<p><a href=\"https://github.com/mariadb-corporation/mariadb-connector-j/compare/3.2.0...3.3.0\">Full Changelog</a></p>\\n<h5>Notable Changes</h5>\\n<ul>\\n<li>CONJ-1115 Make connector become more virtual-thread friendly</li>\\n<li>CONJ-1108 Database metadata listing TEMPORARY tables/sequences</li>\\n<li>CONJ-1113 update ed25519 to recent version</li>\\n<li>CONJ-1116 Avoid unnecessary synchronization on calendar when no calendar parameter</li>\\n</ul>\\n<h5>Bugs Fixed</h5>\\n<ul>\\n<li>CONJ-1102 BatchUpdateException.getUpdateCounts() returns SUCCESS_NO_INFO but expects EXECUTE_FAILED</li>\\n</ul>\\n<h2><a href=\"https://github.com/mariadb-corporation/mariadb-connector-j/tree/3.2.0\">3.2.0</a> (Aug 2023)</h2>\\n<p><a href=\"https://github.com/mariadb-corporation/mariadb-connector-j/compare/3.1.4...3.2.0\">Full Changelog</a></p>\\n<h5>Notable Changes</h5>\\n<ul>\\n<li>CONJ-920 Java batched statements with optimistic locking failing. the option <code>useBulkStmts</code> is now disable by default,\\na new option <code>useBulkStmtsForInserts</code> is enabled by default, permitting using bulk for INSERT commands only. This\\npermits optimistic behavior working by default.</li>\\n<li>CONJ-1084 When using maxscale 23.08.0+, and a maxscale node fails, connector will now priorize reconnection to the\\nmaxscale node having less connection, to ensure repartition after failover</li>\\n<li>CONJ-1088 Implement <code>databaseTerm</code> option for mysql compatibility</li>\\n<li>CONJ-1096 adding option <code>useLocalSessionState</code> to permit avoiding queries when application only use JDBC methods.</li>\\n</ul>\\n<h5>Bugs Fixed</h5>\\n<ul>\\n<li>CONJ-1075 LOAD DATA INFILE is broken on windows</li>\\n<li>CONJ-1079 getGeneratedKeys after batch will not return all generated id\\'s if first batch command return no generated\\nid.</li>\\n<li>CONJ-1080 mariadb Java connector sslMode=verify-ca complaining unable to find trust certificate.</li>\\n<li>CONJ-1082 Multiple session system variables parsing fails</li>\\n<li>CONJ-1083 Using /<em>client prepare</em>/ prefix to force client side prepared statement</li>\\n<li>CONJ-1091 can\\'t make a connection when the Read Replica DB is in a hang state when SocketTimeout=0 set</li>\\n<li>CONJ-1092 ensure respecting server collation</li>\\n<li>CONJ-1094 Missing mariadb/mysql collation</li>\\n</ul>\\n<h2><a href=\"https://github.com/mariadb-corporation/mariadb-connector-j/tree/3.0.11\">3.0.11</a> (Aug 2023)</h2>\\n<p><a href=\"https://github.com/mariadb-corporation/mariadb-connector-j/compare/3.0.10...3.0.11\">Full Changelog</a></p>\\n<ul>\\n<li>CONJ-1089 correcting 3.0.10 incompatibility with in java 8</li>\\n</ul>\\n<h2><a href=\"https://github.com/mariadb-corporation/mariadb-connector-j/tree/2.7.10\">2.7.10</a> (Aug 2023)</h2>\\n<p><a href=\"https://github.com/mariadb-corporation/mariadb-connector-j/compare/2.7.9...2.7.10\">Full Changelog</a></p>\\n<!-- raw HTML omitted -->\\n</blockquote>\\n<p>... (truncated)</p>\\n</details>\\n<details>\\n<summary>Commits</summary>\\n<ul>\\n<li><a href=\"https://github.com/mariadb-corporation/mariadb-connector-j/commit/d9b36887da75cc23b39d3773436450b2e7ebedaf\"><code>d9b3688</code></a> Merge branch \\'release/3.3.0\\'</li>\\n<li><a href=\"https://github.com/mariadb-corporation/mariadb-connector-j/commit/7ef158f93edfa89c244c01a3836cc67dbcc1d3a4\"><code>7ef158f</code></a> bump 3.3.0</li>\\n<li><a href=\"https://github.com/mariadb-corporation/mariadb-connector-j/commit/5ff1421b537b48a2646a800d34ac96dc619413e2\"><code>5ff1421</code></a> [CONJ-1108] Database metadata listing TEMPORARY tables/sequences - ensure nul...</li>\\n<li><a href=\"https://github.com/mariadb-corporation/mariadb-connector-j/commit/52ab8d38e1f1a405d4f9470b0f72eb8a4ff1b04b\"><code>52ab8d3</code></a> [CONJ-1108] Database metadata listing TEMPORARY tables/sequences</li>\\n<li><a href=\"https://github.com/mariadb-corporation/mariadb-connector-j/commit/057b2e9d015dbb1d57ca838c1725883c9c03d177\"><code>057b2e9</code></a> [misc] default compiler version correction</li>\\n<li><a href=\"https://github.com/mariadb-corporation/mariadb-connector-j/commit/8690386197dbf1ea57d12bec56e21c8350a2b563\"><code>8690386</code></a> [CONJ-1102] BatchUpdateException.getUpdateCounts() wrong results</li>\\n<li><a href=\"https://github.com/mariadb-corporation/mariadb-connector-j/commit/69735a540f25ce5793144c61f9edb810f7d15edf\"><code>69735a5</code></a> [misc] TemporalField use code simplification</li>\\n<li><a href=\"https://github.com/mariadb-corporation/mariadb-connector-j/commit/c46c6bc0ed5ef14c301ac22760d0b6b5b0e8948f\"><code>c46c6bc</code></a> [misc] remove skysql testing</li>\\n<li><a href=\"https://github.com/mariadb-corporation/mariadb-connector-j/commit/be3eb29fe66b67f6237db4f034bc5414f7c412a8\"><code>be3eb29</code></a> bump jmh version</li>\\n<li><a href=\"https://github.com/mariadb-corporation/mariadb-connector-j/commit/f5a33b6d8e1540e58ad60b1782e437f20b7aba1a\"><code>f5a33b6</code></a> [CONJ-1115] Make connector become virtual-thread friendly - part 2</li>\\n<li>Additional commits viewable in <a href=\"https://github.com/mariadb-corporation/mariadb-connector-j/compare/2.7.9...3.3.0\">compare view</a></li>\\n</ul>\\n</details>\\n<br />\\n\\n<details>\\n<summary>Most Recent Ignore Conditions Applied to This Pull Request</summary>\\n\\n| Dependency Name | Ignore Conditions |\\n| --- | --- |\\n| org.mariadb.jdbc:mariadb-java-client | [>= 3.0.a, < 3.1] |\\n</details>\\n\\n\\n[![Dependabot compatibility score](https://dependabot-badges.githubapp.com/badges/compatibility_score?dependency-name=org.mariadb.jdbc:mariadb-java-client&package-manager=gradle&previous-version=2.7.9&new-version=3.3.0)](https://docs.github.com/en/github/managing-security-vulnerabilities/about-dependabot-security-updates#about-compatibility-scores)\\n\\nDependabot will resolve any conflicts with this PR as long as you don\\'t alter it yourself. You can also trigger a rebase manually by commenting `@dependabot rebase`.\\n\\n[//]: # (dependabot-automerge-start)\\n[//]: # (dependabot-automerge-end)\\n\\n---\\n\\n<details>\\n<summary>Dependabot commands and options</summary>\\n<br />\\n\\nYou can trigger Dependabot actions by commenting on this PR:\\n- `@dependabot rebase` will rebase this PR\\n- `@dependabot recreate` will recreate this PR, overwriting any edits that have been made to it\\n- `@dependabot merge` will merge this PR after your CI passes on it\\n- `@dependabot squash and merge` will squash and merge this PR after your CI passes on it\\n- `@dependabot cancel merge` will cancel a previously requested merge and block automerging\\n- `@dependabot reopen` will reopen this PR if it is closed\\n- `@dependabot close` will close this PR and stop Dependabot recreating it. You can achieve the same result by closing it manually\\n- `@dependabot show <dependency name> ignore conditions` will show all of the ignore conditions of the specified dependency\\n- `@dependabot ignore this major version` will close this PR and stop Dependabot creating any more for this major version (unless you reopen the PR or upgrade to it yourself)\\n- `@dependabot ignore this minor version` will close this PR and stop Dependabot creating any more for this minor version (unless you reopen the PR or upgrade to it yourself)\\n- `@dependabot ignore this dependency` will close this PR and stop Dependabot creating any more for this dependency (unless you reopen the PR or upgrade to it yourself)\\n\\n\\n</details>', 'state': 'open', 'created_at': '2023-11-27T14:56:17Z', 'closed_at': None, 'user': 'dependabot[bot]', 'num_commits': 1, 'num_additions': 1, 'num_deletions': 1, 'num_changed_files': 1}\n"
     ]
    }
   ],
   "source": [
    "# Pull request data is stored in a PullRequest object\n",
    "req = jabref_repo.pull_requests[0]\n",
    "print(type(req))\n",
    "print(req.to_dict())"
   ],
   "metadata": {
    "collapsed": false,
    "ExecuteTime": {
     "end_time": "2023-11-27T18:05:10.072478100Z",
     "start_time": "2023-11-27T18:05:09.994329600Z"
    }
   }
  },
  {
   "cell_type": "code",
   "execution_count": 4,
   "outputs": [
    {
     "data": {
      "text/plain": "                                                title  number  \\\n0   Bump org.mariadb.jdbc:mariadb-java-client from...   10668   \n1   Bump org.openrewrite.recipe:rewrite-recipe-bom...   10667   \n2   Bump org.bouncycastle:bcprov-jdk18on from 1.76...   10666   \n3   [WIP] Handling non-ascii characters in entry e...   10662   \n4   Add 'More' option to right click menu in the m...   10659   \n5                          Issue 10431 relevance star   10620   \n6        Do not show user-specific comment as default   10610   \n7                          Predatory journal checker    10592   \n8              Fix for delete entries should ask user   10591   \n9                                     Add git support   10586   \n10  [WIP] This relativizes the PDF's filepaths aft...   10582   \n11                            [WIP] Jump to entry cli   10578   \n12  Display files from referenced crossref in entr...   10577   \n13                                           Spotbugs   10565   \n14  Add support for LTWA (List of Title Word Abbre...   10541   \n15      Implemented \"Welcome Interface for New Users\"   10540   \n16                 Issue 9798: Relinking after moving   10526   \n17                   Add auto group colour assignment   10521   \n18                Improving Booktitle Integrity Check   10519   \n19                          Added Fetcher for ISIDORE   10518   \n20  Fix duplicate external file type issue when ch...   10496   \n21  Major refactoring of the citation relation tab...   10475   \n22                       [WIP] Extract PDF References   10437   \n23  Added option to treat all duplicate entries in...   10386   \n24                    Implement test cases for search   10193   \n25  Display files from referenced crossref in entr...    9717   \n26                              Lucene search backend    8963   \n27               WIP: Dbsync performance improvements    8496   \n28  Fix re-enabling \"Jump to entry\" for \"linked\" t...    8456   \n29             Prototype Implement better Search #341    8356   \n\n                                                 body state  \\\n0   Bumps [org.mariadb.jdbc:mariadb-java-client](h...  open   \n1   Bumps [org.openrewrite.recipe:rewrite-recipe-b...  open   \n2   Bumps [org.bouncycastle:bcprov-jdk18on](https:...  open   \n3   <!-- \\r\\nDescribe the changes you have made he...  open   \n4   Fixes [#9432](https://github.com/JabRef/jabref...  open   \n5   <!-- \\r\\nDescribe the changes you have made he...  open   \n6   Fixes https://github.com/JabRef/jabref/issues/...  open   \n7   Continue to resolve koppor#348\\r\\n\\r\\nThe impl...  open   \n8   <!-- \\r\\nDescribe the changes you have made he...  open   \n9   <!-- \\r\\nDescribe the changes you have made he...  open   \n10  <!-- \\r\\nDescribe the changes you have made he...  open   \n11  <!-- \\r\\nDescribe the changes you have made he...  open   \n12  Resolves  #7731\\r\\nImproves code quality of - ...  open   \n13  <!-- \\r\\nDescribe the changes you have made he...  open   \n14  <!-- \\r\\nDescribe the changes you have made he...  open   \n15  Fixes https://github.com/koppor/jabref/issues/...  open   \n16  <!-- \\r\\nDescribe the changes you have made he...  open   \n17  <!-- \\r\\nDescribe the changes you have made he...  open   \n18  ** DRAFT **\\r\\n\\r\\nAdded new Checkers for book...  open   \n19  Added a fetcher for the webside ISIDORE, (http...  open   \n20  <!-- \\r\\nDescribe the changes you have made he...  open   \n21  Closes https://github.com/JabRef/jabref-issue-...  open   \n22  <!-- \\r\\nDescribe the changes you have made he...  open   \n23  <!-- \\r\\nDescribe the changes you have made he...  open   \n24  <!-- \\r\\nDescribe the changes you have made he...  open   \n25  Fixes #7731. \\r\\n\\r\\nNow display attached file...  open   \n26  First draft of the switch to the Lucene Search...  open   \n27  I could not push to the original one \\r\\nFollo...  open   \n28  <!-- \\r\\nDescribe the changes you have made he...  open   \n29  The issue was to implement a better search #Is...  open   \n\n              created_at closed_at                   user  num_commits  \\\n0   2023-11-27T14:56:17Z      None        dependabot[bot]            1   \n1   2023-11-27T14:56:08Z      None        dependabot[bot]            1   \n2   2023-11-27T14:55:59Z      None        dependabot[bot]            1   \n3   2023-11-21T22:12:37Z      None                yuyan-z           17   \n4   2023-11-21T19:15:14Z      None                theoo33           25   \n5   2023-11-06T07:44:50Z      None         LenkaBuebnkova            9   \n6   2023-10-31T01:11:31Z      None                 koppor            7   \n7   2023-10-27T19:46:48Z      None            xuanan20020           30   \n8   2023-10-27T14:45:22Z      None               shawn-jj           22   \n9   2023-10-25T22:04:55Z      None               lbenicio           30   \n10  2023-10-25T19:31:14Z      None              IceMajor2           13   \n11  2023-10-25T07:10:34Z      None               u7282852           12   \n12  2023-10-25T01:39:07Z      None                Toro520            2   \n13  2023-10-24T07:04:41Z      None                 5oappy            7   \n14  2023-10-22T09:34:22Z      None             wenshilanR            3   \n15  2023-10-22T08:04:00Z      None         u7229988-Rabie            5   \n16  2023-10-19T12:58:10Z      None              u74981018           10   \n17  2023-10-18T18:32:54Z      None              Ziyao-Jin            9   \n18  2023-10-18T12:23:32Z      None              cmgoodall            7   \n19  2023-10-18T11:38:20Z      None               u7492883           30   \n20  2023-10-15T15:58:49Z      None             papatekken           30   \n21  2023-10-10T12:09:19Z      None           HoussemNasri           10   \n22  2023-10-01T23:10:35Z      None               aqurilla            9   \n23  2023-09-16T01:07:50Z      None              jlauber18           10   \n24  2023-08-20T12:22:39Z      None             Luggas4you           18   \n25  2023-03-31T09:22:05Z      None               HighCrit            5   \n26  2022-07-09T16:58:44Z      None                   btut           30   \n27  2022-02-09T19:06:38Z      None             Siedlerchr           26   \n28  2022-01-23T22:56:11Z      None  k3KAW8Pnf7mkmdSMPHz27            3   \n29  2021-12-22T19:45:53Z      None               dmadoery           30   \n\n    num_additions  num_deletions  num_changed_files  \n0               1              1                  1  \n1               1              1                  1  \n2               1              1                  1  \n3              34             23                  7  \n4              74             41                  9  \n5               0              5                  1  \n6             172             93                 14  \n7             466             13                 17  \n8             142             30                 10  \n9            2541             34                 40  \n10             38              4                  4  \n11            222            174                 12  \n12             77             22                  4  \n13             29              0                  2  \n14          56158              3                  5  \n15            254             13                  4  \n16             94              6                  4  \n17             73              3                  4  \n18            250              0                 10  \n19            399             20                  9  \n20            172             16                  8  \n21            547            442                 13  \n22            562              0                 11  \n23             96              8                  8  \n24            306              0                 20  \n25             46              6                  4  \n26           1591           2501                 99  \n27            122             55                 13  \n28             13             15                  2  \n29           4563            268                 74  ",
      "text/html": "<div>\n<style scoped>\n    .dataframe tbody tr th:only-of-type {\n        vertical-align: middle;\n    }\n\n    .dataframe tbody tr th {\n        vertical-align: top;\n    }\n\n    .dataframe thead th {\n        text-align: right;\n    }\n</style>\n<table border=\"1\" class=\"dataframe\">\n  <thead>\n    <tr style=\"text-align: right;\">\n      <th></th>\n      <th>title</th>\n      <th>number</th>\n      <th>body</th>\n      <th>state</th>\n      <th>created_at</th>\n      <th>closed_at</th>\n      <th>user</th>\n      <th>num_commits</th>\n      <th>num_additions</th>\n      <th>num_deletions</th>\n      <th>num_changed_files</th>\n    </tr>\n  </thead>\n  <tbody>\n    <tr>\n      <th>0</th>\n      <td>Bump org.mariadb.jdbc:mariadb-java-client from...</td>\n      <td>10668</td>\n      <td>Bumps [org.mariadb.jdbc:mariadb-java-client](h...</td>\n      <td>open</td>\n      <td>2023-11-27T14:56:17Z</td>\n      <td>None</td>\n      <td>dependabot[bot]</td>\n      <td>1</td>\n      <td>1</td>\n      <td>1</td>\n      <td>1</td>\n    </tr>\n    <tr>\n      <th>1</th>\n      <td>Bump org.openrewrite.recipe:rewrite-recipe-bom...</td>\n      <td>10667</td>\n      <td>Bumps [org.openrewrite.recipe:rewrite-recipe-b...</td>\n      <td>open</td>\n      <td>2023-11-27T14:56:08Z</td>\n      <td>None</td>\n      <td>dependabot[bot]</td>\n      <td>1</td>\n      <td>1</td>\n      <td>1</td>\n      <td>1</td>\n    </tr>\n    <tr>\n      <th>2</th>\n      <td>Bump org.bouncycastle:bcprov-jdk18on from 1.76...</td>\n      <td>10666</td>\n      <td>Bumps [org.bouncycastle:bcprov-jdk18on](https:...</td>\n      <td>open</td>\n      <td>2023-11-27T14:55:59Z</td>\n      <td>None</td>\n      <td>dependabot[bot]</td>\n      <td>1</td>\n      <td>1</td>\n      <td>1</td>\n      <td>1</td>\n    </tr>\n    <tr>\n      <th>3</th>\n      <td>[WIP] Handling non-ascii characters in entry e...</td>\n      <td>10662</td>\n      <td>&lt;!-- \\r\\nDescribe the changes you have made he...</td>\n      <td>open</td>\n      <td>2023-11-21T22:12:37Z</td>\n      <td>None</td>\n      <td>yuyan-z</td>\n      <td>17</td>\n      <td>34</td>\n      <td>23</td>\n      <td>7</td>\n    </tr>\n    <tr>\n      <th>4</th>\n      <td>Add 'More' option to right click menu in the m...</td>\n      <td>10659</td>\n      <td>Fixes [#9432](https://github.com/JabRef/jabref...</td>\n      <td>open</td>\n      <td>2023-11-21T19:15:14Z</td>\n      <td>None</td>\n      <td>theoo33</td>\n      <td>25</td>\n      <td>74</td>\n      <td>41</td>\n      <td>9</td>\n    </tr>\n    <tr>\n      <th>5</th>\n      <td>Issue 10431 relevance star</td>\n      <td>10620</td>\n      <td>&lt;!-- \\r\\nDescribe the changes you have made he...</td>\n      <td>open</td>\n      <td>2023-11-06T07:44:50Z</td>\n      <td>None</td>\n      <td>LenkaBuebnkova</td>\n      <td>9</td>\n      <td>0</td>\n      <td>5</td>\n      <td>1</td>\n    </tr>\n    <tr>\n      <th>6</th>\n      <td>Do not show user-specific comment as default</td>\n      <td>10610</td>\n      <td>Fixes https://github.com/JabRef/jabref/issues/...</td>\n      <td>open</td>\n      <td>2023-10-31T01:11:31Z</td>\n      <td>None</td>\n      <td>koppor</td>\n      <td>7</td>\n      <td>172</td>\n      <td>93</td>\n      <td>14</td>\n    </tr>\n    <tr>\n      <th>7</th>\n      <td>Predatory journal checker</td>\n      <td>10592</td>\n      <td>Continue to resolve koppor#348\\r\\n\\r\\nThe impl...</td>\n      <td>open</td>\n      <td>2023-10-27T19:46:48Z</td>\n      <td>None</td>\n      <td>xuanan20020</td>\n      <td>30</td>\n      <td>466</td>\n      <td>13</td>\n      <td>17</td>\n    </tr>\n    <tr>\n      <th>8</th>\n      <td>Fix for delete entries should ask user</td>\n      <td>10591</td>\n      <td>&lt;!-- \\r\\nDescribe the changes you have made he...</td>\n      <td>open</td>\n      <td>2023-10-27T14:45:22Z</td>\n      <td>None</td>\n      <td>shawn-jj</td>\n      <td>22</td>\n      <td>142</td>\n      <td>30</td>\n      <td>10</td>\n    </tr>\n    <tr>\n      <th>9</th>\n      <td>Add git support</td>\n      <td>10586</td>\n      <td>&lt;!-- \\r\\nDescribe the changes you have made he...</td>\n      <td>open</td>\n      <td>2023-10-25T22:04:55Z</td>\n      <td>None</td>\n      <td>lbenicio</td>\n      <td>30</td>\n      <td>2541</td>\n      <td>34</td>\n      <td>40</td>\n    </tr>\n    <tr>\n      <th>10</th>\n      <td>[WIP] This relativizes the PDF's filepaths aft...</td>\n      <td>10582</td>\n      <td>&lt;!-- \\r\\nDescribe the changes you have made he...</td>\n      <td>open</td>\n      <td>2023-10-25T19:31:14Z</td>\n      <td>None</td>\n      <td>IceMajor2</td>\n      <td>13</td>\n      <td>38</td>\n      <td>4</td>\n      <td>4</td>\n    </tr>\n    <tr>\n      <th>11</th>\n      <td>[WIP] Jump to entry cli</td>\n      <td>10578</td>\n      <td>&lt;!-- \\r\\nDescribe the changes you have made he...</td>\n      <td>open</td>\n      <td>2023-10-25T07:10:34Z</td>\n      <td>None</td>\n      <td>u7282852</td>\n      <td>12</td>\n      <td>222</td>\n      <td>174</td>\n      <td>12</td>\n    </tr>\n    <tr>\n      <th>12</th>\n      <td>Display files from referenced crossref in entr...</td>\n      <td>10577</td>\n      <td>Resolves  #7731\\r\\nImproves code quality of - ...</td>\n      <td>open</td>\n      <td>2023-10-25T01:39:07Z</td>\n      <td>None</td>\n      <td>Toro520</td>\n      <td>2</td>\n      <td>77</td>\n      <td>22</td>\n      <td>4</td>\n    </tr>\n    <tr>\n      <th>13</th>\n      <td>Spotbugs</td>\n      <td>10565</td>\n      <td>&lt;!-- \\r\\nDescribe the changes you have made he...</td>\n      <td>open</td>\n      <td>2023-10-24T07:04:41Z</td>\n      <td>None</td>\n      <td>5oappy</td>\n      <td>7</td>\n      <td>29</td>\n      <td>0</td>\n      <td>2</td>\n    </tr>\n    <tr>\n      <th>14</th>\n      <td>Add support for LTWA (List of Title Word Abbre...</td>\n      <td>10541</td>\n      <td>&lt;!-- \\r\\nDescribe the changes you have made he...</td>\n      <td>open</td>\n      <td>2023-10-22T09:34:22Z</td>\n      <td>None</td>\n      <td>wenshilanR</td>\n      <td>3</td>\n      <td>56158</td>\n      <td>3</td>\n      <td>5</td>\n    </tr>\n    <tr>\n      <th>15</th>\n      <td>Implemented \"Welcome Interface for New Users\"</td>\n      <td>10540</td>\n      <td>Fixes https://github.com/koppor/jabref/issues/...</td>\n      <td>open</td>\n      <td>2023-10-22T08:04:00Z</td>\n      <td>None</td>\n      <td>u7229988-Rabie</td>\n      <td>5</td>\n      <td>254</td>\n      <td>13</td>\n      <td>4</td>\n    </tr>\n    <tr>\n      <th>16</th>\n      <td>Issue 9798: Relinking after moving</td>\n      <td>10526</td>\n      <td>&lt;!-- \\r\\nDescribe the changes you have made he...</td>\n      <td>open</td>\n      <td>2023-10-19T12:58:10Z</td>\n      <td>None</td>\n      <td>u74981018</td>\n      <td>10</td>\n      <td>94</td>\n      <td>6</td>\n      <td>4</td>\n    </tr>\n    <tr>\n      <th>17</th>\n      <td>Add auto group colour assignment</td>\n      <td>10521</td>\n      <td>&lt;!-- \\r\\nDescribe the changes you have made he...</td>\n      <td>open</td>\n      <td>2023-10-18T18:32:54Z</td>\n      <td>None</td>\n      <td>Ziyao-Jin</td>\n      <td>9</td>\n      <td>73</td>\n      <td>3</td>\n      <td>4</td>\n    </tr>\n    <tr>\n      <th>18</th>\n      <td>Improving Booktitle Integrity Check</td>\n      <td>10519</td>\n      <td>** DRAFT **\\r\\n\\r\\nAdded new Checkers for book...</td>\n      <td>open</td>\n      <td>2023-10-18T12:23:32Z</td>\n      <td>None</td>\n      <td>cmgoodall</td>\n      <td>7</td>\n      <td>250</td>\n      <td>0</td>\n      <td>10</td>\n    </tr>\n    <tr>\n      <th>19</th>\n      <td>Added Fetcher for ISIDORE</td>\n      <td>10518</td>\n      <td>Added a fetcher for the webside ISIDORE, (http...</td>\n      <td>open</td>\n      <td>2023-10-18T11:38:20Z</td>\n      <td>None</td>\n      <td>u7492883</td>\n      <td>30</td>\n      <td>399</td>\n      <td>20</td>\n      <td>9</td>\n    </tr>\n    <tr>\n      <th>20</th>\n      <td>Fix duplicate external file type issue when ch...</td>\n      <td>10496</td>\n      <td>&lt;!-- \\r\\nDescribe the changes you have made he...</td>\n      <td>open</td>\n      <td>2023-10-15T15:58:49Z</td>\n      <td>None</td>\n      <td>papatekken</td>\n      <td>30</td>\n      <td>172</td>\n      <td>16</td>\n      <td>8</td>\n    </tr>\n    <tr>\n      <th>21</th>\n      <td>Major refactoring of the citation relation tab...</td>\n      <td>10475</td>\n      <td>Closes https://github.com/JabRef/jabref-issue-...</td>\n      <td>open</td>\n      <td>2023-10-10T12:09:19Z</td>\n      <td>None</td>\n      <td>HoussemNasri</td>\n      <td>10</td>\n      <td>547</td>\n      <td>442</td>\n      <td>13</td>\n    </tr>\n    <tr>\n      <th>22</th>\n      <td>[WIP] Extract PDF References</td>\n      <td>10437</td>\n      <td>&lt;!-- \\r\\nDescribe the changes you have made he...</td>\n      <td>open</td>\n      <td>2023-10-01T23:10:35Z</td>\n      <td>None</td>\n      <td>aqurilla</td>\n      <td>9</td>\n      <td>562</td>\n      <td>0</td>\n      <td>11</td>\n    </tr>\n    <tr>\n      <th>23</th>\n      <td>Added option to treat all duplicate entries in...</td>\n      <td>10386</td>\n      <td>&lt;!-- \\r\\nDescribe the changes you have made he...</td>\n      <td>open</td>\n      <td>2023-09-16T01:07:50Z</td>\n      <td>None</td>\n      <td>jlauber18</td>\n      <td>10</td>\n      <td>96</td>\n      <td>8</td>\n      <td>8</td>\n    </tr>\n    <tr>\n      <th>24</th>\n      <td>Implement test cases for search</td>\n      <td>10193</td>\n      <td>&lt;!-- \\r\\nDescribe the changes you have made he...</td>\n      <td>open</td>\n      <td>2023-08-20T12:22:39Z</td>\n      <td>None</td>\n      <td>Luggas4you</td>\n      <td>18</td>\n      <td>306</td>\n      <td>0</td>\n      <td>20</td>\n    </tr>\n    <tr>\n      <th>25</th>\n      <td>Display files from referenced crossref in entr...</td>\n      <td>9717</td>\n      <td>Fixes #7731. \\r\\n\\r\\nNow display attached file...</td>\n      <td>open</td>\n      <td>2023-03-31T09:22:05Z</td>\n      <td>None</td>\n      <td>HighCrit</td>\n      <td>5</td>\n      <td>46</td>\n      <td>6</td>\n      <td>4</td>\n    </tr>\n    <tr>\n      <th>26</th>\n      <td>Lucene search backend</td>\n      <td>8963</td>\n      <td>First draft of the switch to the Lucene Search...</td>\n      <td>open</td>\n      <td>2022-07-09T16:58:44Z</td>\n      <td>None</td>\n      <td>btut</td>\n      <td>30</td>\n      <td>1591</td>\n      <td>2501</td>\n      <td>99</td>\n    </tr>\n    <tr>\n      <th>27</th>\n      <td>WIP: Dbsync performance improvements</td>\n      <td>8496</td>\n      <td>I could not push to the original one \\r\\nFollo...</td>\n      <td>open</td>\n      <td>2022-02-09T19:06:38Z</td>\n      <td>None</td>\n      <td>Siedlerchr</td>\n      <td>26</td>\n      <td>122</td>\n      <td>55</td>\n      <td>13</td>\n    </tr>\n    <tr>\n      <th>28</th>\n      <td>Fix re-enabling \"Jump to entry\" for \"linked\" t...</td>\n      <td>8456</td>\n      <td>&lt;!-- \\r\\nDescribe the changes you have made he...</td>\n      <td>open</td>\n      <td>2022-01-23T22:56:11Z</td>\n      <td>None</td>\n      <td>k3KAW8Pnf7mkmdSMPHz27</td>\n      <td>3</td>\n      <td>13</td>\n      <td>15</td>\n      <td>2</td>\n    </tr>\n    <tr>\n      <th>29</th>\n      <td>Prototype Implement better Search #341</td>\n      <td>8356</td>\n      <td>The issue was to implement a better search #Is...</td>\n      <td>open</td>\n      <td>2021-12-22T19:45:53Z</td>\n      <td>None</td>\n      <td>dmadoery</td>\n      <td>30</td>\n      <td>4563</td>\n      <td>268</td>\n      <td>74</td>\n    </tr>\n  </tbody>\n</table>\n</div>"
     },
     "execution_count": 4,
     "metadata": {},
     "output_type": "execute_result"
    }
   ],
   "source": [
    "# I have written a function to convert list of pull request data to pandas dataframe\n",
    "# We will need define more classes and methods to finish this project\n",
    "jabref_repo.pull_requests_to_pandas()"
   ],
   "metadata": {
    "collapsed": false,
    "ExecuteTime": {
     "end_time": "2023-11-27T18:05:10.436237500Z",
     "start_time": "2023-11-27T18:05:10.009953700Z"
    }
   }
  },
  {
   "cell_type": "code",
   "execution_count": 6,
   "outputs": [],
   "source": [
    "jabref_repo.save_to_csv()"
   ],
   "metadata": {
    "collapsed": false,
    "ExecuteTime": {
     "end_time": "2023-11-27T18:07:50.895553800Z",
     "start_time": "2023-11-27T18:07:50.879975900Z"
    }
   }
  },
  {
   "cell_type": "code",
   "execution_count": 9,
   "outputs": [],
   "source": [
    "gitdata.save_as_csv('repos/jabref_test.csv',jabref_repo.to_csv_record())"
   ],
   "metadata": {
    "collapsed": false,
    "ExecuteTime": {
     "end_time": "2023-11-27T18:11:58.093633800Z",
     "start_time": "2023-11-27T18:11:58.071459800Z"
    }
   }
  },
  {
   "cell_type": "code",
   "execution_count": 10,
   "outputs": [
    {
     "ename": "AttributeError",
     "evalue": "'PullRequest' object has no attribute 'to_csv_record'",
     "output_type": "error",
     "traceback": [
      "\u001B[1;31m---------------------------------------------------------------------------\u001B[0m",
      "\u001B[1;31mAttributeError\u001B[0m                            Traceback (most recent call last)",
      "Input \u001B[1;32mIn [10]\u001B[0m, in \u001B[0;36m<cell line: 1>\u001B[1;34m()\u001B[0m\n\u001B[1;32m----> 1\u001B[0m gitdata\u001B[38;5;241m.\u001B[39msave_as_csv(\u001B[38;5;124m'\u001B[39m\u001B[38;5;124mrepos/jabref_pr_test.csv\u001B[39m\u001B[38;5;124m'\u001B[39m,\u001B[43mjabref_repo\u001B[49m\u001B[38;5;241;43m.\u001B[39;49m\u001B[43mpull_requests\u001B[49m\u001B[43m[\u001B[49m\u001B[38;5;241;43m0\u001B[39;49m\u001B[43m]\u001B[49m\u001B[38;5;241;43m.\u001B[39;49m\u001B[43mto_csv_record\u001B[49m())\n",
      "\u001B[1;31mAttributeError\u001B[0m: 'PullRequest' object has no attribute 'to_csv_record'"
     ]
    }
   ],
   "source": [
    "gitdata.save_as_csv('repos/jabref_pr_test.csv',jabref_repo.pull_requests[0].to_csv_record())"
   ],
   "metadata": {
    "collapsed": false,
    "ExecuteTime": {
     "end_time": "2023-11-27T18:11:59.189517200Z",
     "start_time": "2023-11-27T18:11:59.178434600Z"
    }
   }
  },
  {
   "cell_type": "code",
   "execution_count": null,
   "outputs": [],
   "source": [],
   "metadata": {
    "collapsed": false
   }
  }
 ],
 "metadata": {
  "kernelspec": {
   "display_name": "Python 3",
   "language": "python",
   "name": "python3"
  },
  "language_info": {
   "codemirror_mode": {
    "name": "ipython",
    "version": 2
   },
   "file_extension": ".py",
   "mimetype": "text/x-python",
   "name": "python",
   "nbconvert_exporter": "python",
   "pygments_lexer": "ipython2",
   "version": "2.7.6"
  }
 },
 "nbformat": 4,
 "nbformat_minor": 0
}
