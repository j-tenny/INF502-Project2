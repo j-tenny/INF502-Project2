{
 "cells": [
  {
   "cell_type": "markdown",
   "source": [
    "# Working with gitdata objects..."
   ],
   "metadata": {
    "collapsed": false
   }
  },
  {
   "cell_type": "code",
   "execution_count": 1,
   "outputs": [],
   "source": [
    "# Import classes and functions from gitdata.py\n",
    "import gitdata\n",
    "\n",
    "# Load github personal access token from text file\n",
    "import os\n",
    "if os.path.exists('mytoken.txt'):\n",
    "    with open('mytoken.txt') as f:\n",
    "        mytoken = f.read()\n",
    "else:\n",
    "    mytoken = None"
   ],
   "metadata": {
    "collapsed": false,
    "ExecuteTime": {
     "end_time": "2023-11-28T00:04:36.062064900Z",
     "start_time": "2023-11-28T00:04:36.046431600Z"
    }
   }
  },
  {
   "cell_type": "markdown",
   "source": [
    "### First, we can download data for a Repository"
   ],
   "metadata": {
    "collapsed": false
   }
  },
  {
   "cell_type": "code",
   "execution_count": 2,
   "outputs": [
    {
     "ename": "TypeError",
     "evalue": "'NoneType' object is not iterable",
     "output_type": "error",
     "traceback": [
      "\u001B[1;31m---------------------------------------------------------------------------\u001B[0m",
      "\u001B[1;31mTypeError\u001B[0m                                 Traceback (most recent call last)",
      "Input \u001B[1;32mIn [2]\u001B[0m, in \u001B[0;36m<cell line: 2>\u001B[1;34m()\u001B[0m\n\u001B[0;32m      1\u001B[0m \u001B[38;5;66;03m# Download repository data, store in Repository object\u001B[39;00m\n\u001B[1;32m----> 2\u001B[0m jabref_repo \u001B[38;5;241m=\u001B[39m \u001B[43mgitdata\u001B[49m\u001B[38;5;241;43m.\u001B[39;49m\u001B[43mRepository\u001B[49m\u001B[43m(\u001B[49m\u001B[43mowner_name\u001B[49m\u001B[38;5;241;43m=\u001B[39;49m\u001B[38;5;124;43m'\u001B[39;49m\u001B[38;5;124;43mjabref\u001B[39;49m\u001B[38;5;124;43m'\u001B[39;49m\u001B[43m,\u001B[49m\u001B[43mrepo_name\u001B[49m\u001B[38;5;241;43m=\u001B[39;49m\u001B[38;5;124;43m'\u001B[39;49m\u001B[38;5;124;43mjabref\u001B[39;49m\u001B[38;5;124;43m'\u001B[39;49m\u001B[43m,\u001B[49m\u001B[43mtoken\u001B[49m\u001B[38;5;241;43m=\u001B[39;49m\u001B[43mmytoken\u001B[49m\u001B[43m)\u001B[49m\n\u001B[0;32m      4\u001B[0m \u001B[38;5;66;03m# Repository object stores data and methods\u001B[39;00m\n\u001B[0;32m      5\u001B[0m \u001B[38;5;28mprint\u001B[39m(jabref_repo)\n",
      "File \u001B[1;32m~\\OneDrive - Northern Arizona University\\Classes\\INF 502\\INF502-Project2\\gitdata.py:152\u001B[0m, in \u001B[0;36mRepository.__init__\u001B[1;34m(self, owner_name, repo_name, token)\u001B[0m\n\u001B[0;32m    149\u001B[0m \u001B[38;5;28mself\u001B[39m\u001B[38;5;241m.\u001B[39musers \u001B[38;5;241m=\u001B[39m \u001B[38;5;28mtuple\u001B[39m()\n\u001B[0;32m    151\u001B[0m \u001B[38;5;66;03m# Automatically run function to get pull requests and users\u001B[39;00m\n\u001B[1;32m--> 152\u001B[0m \u001B[38;5;28;43mself\u001B[39;49m\u001B[38;5;241;43m.\u001B[39;49m\u001B[43mget_pulls\u001B[49m\u001B[43m(\u001B[49m\u001B[43m)\u001B[49m\n\u001B[0;32m    153\u001B[0m \u001B[38;5;28mself\u001B[39m\u001B[38;5;241m.\u001B[39mget_users()\n",
      "File \u001B[1;32m~\\OneDrive - Northern Arizona University\\Classes\\INF 502\\INF502-Project2\\gitdata.py:172\u001B[0m, in \u001B[0;36mRepository.get_pulls\u001B[1;34m(self)\u001B[0m\n\u001B[0;32m    168\u001B[0m pull_requests_list \u001B[38;5;241m=\u001B[39m \u001B[38;5;28mlist\u001B[39m()\n\u001B[0;32m    170\u001B[0m \u001B[38;5;66;03m# Convert each pull request in the json to a PullRequest object and add it\u001B[39;00m\n\u001B[0;32m    171\u001B[0m \u001B[38;5;66;03m# to the list of pull requests stored in this Repository object\u001B[39;00m\n\u001B[1;32m--> 172\u001B[0m \u001B[38;5;28;01mfor\u001B[39;00m json_record \u001B[38;5;129;01min\u001B[39;00m pulls_json:\n\u001B[0;32m    173\u001B[0m     pull_request_instance \u001B[38;5;241m=\u001B[39m PullRequest(token\u001B[38;5;241m=\u001B[39m\u001B[38;5;28mself\u001B[39m\u001B[38;5;241m.\u001B[39m__token)\n\u001B[0;32m    174\u001B[0m     pull_request_instance\u001B[38;5;241m.\u001B[39mfill_from_json(json_record)\n",
      "\u001B[1;31mTypeError\u001B[0m: 'NoneType' object is not iterable"
     ]
    }
   ],
   "source": [
    "# Download repository data, store in Repository object\n",
    "jabref_repo = gitdata.Repository(owner_name='jabref',repo_name='jabref',token=mytoken)\n",
    "\n",
    "# Repository object stores data and methods\n",
    "print(jabref_repo)"
   ],
   "metadata": {
    "collapsed": false,
    "ExecuteTime": {
     "end_time": "2023-11-28T00:05:31.403761500Z",
     "start_time": "2023-11-28T00:04:49.803133300Z"
    }
   }
  },
  {
   "cell_type": "code",
   "execution_count": null,
   "outputs": [],
   "source": [
    "# Pull requests are stored in a tuple within the Repository object\n",
    "print(type(jabref_repo.pull_requests))\n",
    "print(len(jabref_repo.pull_requests))\n",
    "print(jabref_repo.pull_requests[0])"
   ],
   "metadata": {
    "collapsed": false,
    "ExecuteTime": {
     "end_time": "2023-11-28T00:05:49.161115800Z",
     "start_time": "2023-11-28T00:05:49.148116700Z"
    }
   }
  },
  {
   "cell_type": "code",
   "execution_count": null,
   "outputs": [],
   "source": [
    "# Pull request data is stored in a PullRequest object\n",
    "req = jabref_repo.pull_requests[0]\n",
    "print(type(req))\n",
    "print(req.to_dict())"
   ],
   "metadata": {
    "collapsed": false,
    "ExecuteTime": {
     "end_time": "2023-11-28T00:05:49.700087500Z",
     "start_time": "2023-11-28T00:05:49.675088500Z"
    }
   }
  },
  {
   "cell_type": "code",
   "execution_count": null,
   "outputs": [],
   "source": [
    "# I have written a function to convert list of pull request data to pandas dataframe\n",
    "# We will need define more classes and methods to finish this project\n",
    "jabref_repo.pull_requests_to_pandas()"
   ],
   "metadata": {
    "collapsed": false,
    "ExecuteTime": {
     "end_time": "2023-11-28T00:07:16.806807800Z",
     "start_time": "2023-11-28T00:07:16.790633300Z"
    }
   }
  },
  {
   "cell_type": "markdown",
   "source": [
    "## Each Repository also stores a list of users. Each User has several properties and methods"
   ],
   "metadata": {
    "collapsed": false
   }
  },
  {
   "cell_type": "code",
   "execution_count": null,
   "outputs": [],
   "source": [
    "user1 = jabref_repo.users[0]\n",
    "user1.followers"
   ],
   "metadata": {
    "collapsed": false,
    "ExecuteTime": {
     "end_time": "2023-11-28T00:07:21.229534500Z",
     "start_time": "2023-11-28T00:07:21.204902300Z"
    }
   }
  },
  {
   "cell_type": "code",
   "execution_count": null,
   "outputs": [],
   "source": [
    "jabref_repo.users_to_pandas()"
   ],
   "metadata": {
    "collapsed": false,
    "ExecuteTime": {
     "end_time": "2023-11-28T00:07:21.977904300Z",
     "start_time": "2023-11-28T00:07:21.946653600Z"
    }
   }
  },
  {
   "cell_type": "markdown",
   "source": [
    "## Plotting functions for all repositories"
   ],
   "metadata": {
    "collapsed": false
   }
  },
  {
   "cell_type": "code",
   "execution_count": null,
   "outputs": [],
   "source": [
    "this_repo = gitdata.Repository('j-tenny','INF502-Project2',mytoken)"
   ],
   "metadata": {
    "collapsed": false,
    "ExecuteTime": {
     "end_time": "2023-11-28T00:08:10.042813400Z",
     "start_time": "2023-11-28T00:08:09.726773900Z"
    }
   }
  },
  {
   "cell_type": "code",
   "execution_count": null,
   "outputs": [],
   "source": [
    "all_repos = gitdata.AllRepositories([jabref_repo,this_repo])"
   ],
   "metadata": {
    "collapsed": false,
    "ExecuteTime": {
     "end_time": "2023-11-28T00:08:39.245353300Z",
     "start_time": "2023-11-28T00:08:38.642758Z"
    }
   }
  },
  {
   "cell_type": "markdown",
   "source": [
    "### Plotting functions for single repo"
   ],
   "metadata": {
    "collapsed": false
   }
  },
  {
   "cell_type": "code",
   "execution_count": null,
   "outputs": [],
   "source": [
    "pull = this_repo.pull_requests[0]"
   ],
   "metadata": {
    "collapsed": false
   }
  },
  {
   "cell_type": "code",
   "execution_count": null,
   "outputs": [],
   "source": [
    "pull.commits_url"
   ],
   "metadata": {
    "collapsed": false
   }
  },
  {
   "cell_type": "code",
   "execution_count": null,
   "outputs": [],
   "source": [
    "commits = gitdata.get_github_api_request(pull.commits_url,token=mytoken)"
   ],
   "metadata": {
    "collapsed": false
   }
  },
  {
   "cell_type": "code",
   "execution_count": null,
   "outputs": [],
   "source": [
    "commit = commits[0]"
   ],
   "metadata": {
    "collapsed": false
   }
  },
  {
   "cell_type": "code",
   "execution_count": null,
   "outputs": [],
   "source": [
    "commit['url']"
   ],
   "metadata": {
    "collapsed": false
   }
  },
  {
   "cell_type": "code",
   "execution_count": null,
   "outputs": [],
   "source": [
    "commit = gitdata.get_github_api_request(commit['url'])"
   ],
   "metadata": {
    "collapsed": false
   }
  },
  {
   "cell_type": "code",
   "execution_count": null,
   "outputs": [],
   "source": [
    "commit.keys()"
   ],
   "metadata": {
    "collapsed": false
   }
  },
  {
   "cell_type": "code",
   "execution_count": null,
   "outputs": [],
   "source": [
    "commit['stats']"
   ],
   "metadata": {
    "collapsed": false
   }
  },
  {
   "cell_type": "code",
   "execution_count": null,
   "outputs": [],
   "source": [
    "len(commit['files'])"
   ],
   "metadata": {
    "collapsed": false
   }
  },
  {
   "cell_type": "code",
   "execution_count": null,
   "outputs": [],
   "source": [
    "len(commit)"
   ],
   "metadata": {
    "collapsed": false
   }
  },
  {
   "cell_type": "code",
   "execution_count": 3,
   "outputs": [],
   "source": [
    "text1 = gitdata.get_github_api_request(f\"https://api.github.com/repos/j-tenny/INF502-Project2/pulls?state=all?per_page=100\")"
   ],
   "metadata": {
    "collapsed": false
   }
  },
  {
   "cell_type": "code",
   "execution_count": 4,
   "outputs": [],
   "source": [
    "text1"
   ],
   "metadata": {
    "collapsed": false
   }
  },
  {
   "cell_type": "code",
   "execution_count": null,
   "outputs": [],
   "source": [],
   "metadata": {
    "collapsed": false
   }
  }
 ],
 "metadata": {
  "kernelspec": {
   "display_name": "Python 3",
   "language": "python",
   "name": "python3"
  },
  "language_info": {
   "codemirror_mode": {
    "name": "ipython",
    "version": 2
   },
   "file_extension": ".py",
   "mimetype": "text/x-python",
   "name": "python",
   "nbconvert_exporter": "python",
   "pygments_lexer": "ipython2",
   "version": "2.7.6"
  }
 },
 "nbformat": 4,
 "nbformat_minor": 0
}
