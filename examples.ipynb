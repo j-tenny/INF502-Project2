{
 "cells": [
  {
   "cell_type": "markdown",
   "source": [
    "## Working with gitdata objects..."
   ],
   "metadata": {
    "collapsed": false
   }
  },
  {
   "cell_type": "code",
   "execution_count": 3,
   "outputs": [
    {
     "name": "stdout",
     "output_type": "stream",
     "text": [
      "Repository(owner_name: jabref, repo_name: jabref, n_pull_requests: 28)\n"
     ]
    }
   ],
   "source": [
    "# Import classes and functions from gitdata.py\n",
    "import gitdata\n",
    "\n",
    "# Download repository data, store in Repository object\n",
    "jabref_repo = gitdata.Repository(owner_name='jabref',repo_name='jabref')\n",
    "\n",
    "# Repository object stores data and methods\n",
    "print(jabref_repo)"
   ],
   "metadata": {
    "collapsed": false
   }
  },
  {
   "cell_type": "code",
   "execution_count": 7,
   "outputs": [
    {
     "name": "stdout",
     "output_type": "stream",
     "text": [
      "<class 'tuple'>\n",
      "28\n",
      "Pull Request #10646: Use Prettier Java for automatic code formatting\n"
     ]
    }
   ],
   "source": [
    "# Pull requests are stored in a tuple within the Repository object\n",
    "print(type(jabref_repo.pull_requests))\n",
    "print(len(jabref_repo.pull_requests))\n",
    "print(jabref_repo.pull_requests[0])"
   ],
   "metadata": {
    "collapsed": false
   }
  },
  {
   "cell_type": "code",
   "execution_count": 12,
   "outputs": [
    {
     "name": "stdout",
     "output_type": "stream",
     "text": [
      "<class 'gitdata.PullRequest'>\n"
     ]
    },
    {
     "data": {
      "text/plain": "{'title': 'Use Prettier Java for automatic code formatting',\n 'number': 10646,\n 'body': '## Background\\r\\n\\r\\nI am so fed up that\\r\\n\\r\\n- contributors are not able to configure IntelliJ properly (e.g., https://github.com/JabRef/jabref/pull/10582). We tried OpenRewrite for auto fixing, but did not work.\\r\\n- our reformatting broke a few months ago for exceptions (e.g., https://github.com/JabRef/jabref/pull/10577#pullrequestreview-1696993244)\\r\\n- Issues with Eclipse vs. IntelliJ\\r\\n\\r\\nI checked multiple formats and tools (palantir-java-format (https://github.com/koppor/jabref/pull/663), spring-java-format, google-java-format, spotless, square java style) - and \"Prettier Java\" seems to be best\\r\\n\\r\\nI focus in `*.java`. XML could come next.\\r\\n\\r\\n* Diff palantir-java-format: See https://github.com/koppor/jabref/pull/663#issuecomment-1816248562\\r\\n* Diff spring-java-format: https://github.com/koppor/jabref/pull/663#issuecomment-1816186903\\r\\n\\r\\n## Changed\\r\\n\\r\\n- Reformatter **WITH COMMIT** in the CI\\r\\n- Howto refined\\r\\n\\r\\n## Notes\\r\\n\\r\\nWhen coming from a fork, this action will just fail.\\r\\n\\r\\nSee https://github.com/orgs/community/discussions/75867 for details.\\r\\n\\r\\nI had to disable the OpenRewrite rule [UnnecessaryParentheses](https://docs.openrewrite.org/recipes/staticanalysis/unnecessaryparentheses) - see https://github.com/openrewrite/rewrite-static-analysis/issues/219 for details\\r\\n\\r\\n## Next steps\\r\\n\\r\\n### Better comments\\r\\n\\r\\nThe commenting action cannot comment on pull requests, but @reviewdog can. I removed the commenting things here. Follow-up is to convert the output in case of errors to a format consumable to reviewdog.\\r\\n\\r\\n### Negleted by the team\\r\\n\\r\\nI would like to switch from spaces to tabs:\\r\\n\\r\\n- tabs are objectively better than spaces (due to accessibility reasons): https://gomakethings.com/tabs-are-objectively-better-than-spaces/\\r\\n   >  Another accessibility reason for tabs: when using a braille display, each space takes up one character cell, so indenting with four spaces eats up four cells. Indenting three times with four spaces each eats up 12 characters already. Tabs only take one character cell each, so three indents = three character cells used.\\r\\n   >\\r\\n   > Given many, if not most, braille displays are 40 cells long, and that 70-to 80-cell displays are considered a luxury, and you can see how cutting 12 space characters down to 3 tab characters could be really, really helpful.\\r\\n- Another article arguing for accessibility: https://alexandersandberg.com/articles/default-to-tabs-instead-of-spaces-for-an-accessible-first-environment/\\r\\n\\r\\n```diff\\r\\n- tabWidth: 4\\r\\n+ useTabs: true\\r\\n```\\r\\n\\r\\n### Mandatory checks\\r\\n\\r\\n<!-- \\r\\n- Go through the list below. Please don\\'t remove any items.\\r\\n- [x] done; [ ] not done / not applicable\\r\\n-->\\r\\n\\r\\n- [ ] Change in `CHANGELOG.md` described in a way that is understandable for the average user (if applicable)\\r\\n- [ ] Tests created for changes (if applicable)\\r\\n- [ ] Manually tested changed features in running JabRef (always required)\\r\\n- [ ] Screenshots added in PR description (for UI changes)\\r\\n- [ ] [Checked developer\\'s documentation](https://devdocs.jabref.org/): Is the information available and up to date? If not, I outlined it in this pull request.\\r\\n- [ ] [Checked documentation](https://docs.jabref.org/): Is the information available and up to date? If not, I created an issue at <https://github.com/JabRef/user-documentation/issues> or, even better, I submitted a pull request to the documentation repository.\\r\\n',\n 'state': 'open',\n 'created_at': '2023-11-17T13:07:30Z',\n 'closed_at': None}"
     },
     "execution_count": 12,
     "metadata": {},
     "output_type": "execute_result"
    }
   ],
   "source": [
    "# Pull request data is stored in a PullRequest object\n",
    "req = jabref_repo.pull_requests[0]\n",
    "print(type(req))\n",
    "print(req.to_dict())"
   ],
   "metadata": {
    "collapsed": false
   }
  },
  {
   "cell_type": "code",
   "execution_count": 14,
   "outputs": [
    {
     "data": {
      "text/plain": "                                                title  number  \\\n0     Use Prettier Java for automatic code formatting   10646   \n1                          Issue 10431 relevance star   10620   \n2        Do not show user-specific comment as default   10610   \n3                          Predatory journal checker    10592   \n4              Fix for delete entries should ask user   10591   \n5                                     Add git support   10586   \n6   [WIP] This relativizes the PDF's filepaths aft...   10582   \n7                             [WIP] Jump to entry cli   10578   \n8   Display files from referenced crossref in entr...   10577   \n9                                            Spotbugs   10565   \n10  Add support for LTWA (List of Title Word Abbre...   10541   \n11      Implemented \"Welcome Interface for New Users\"   10540   \n12                 Issue 9798: Relinking after moving   10526   \n13                   Add auto group colour assignment   10521   \n14                Improving Booktitle Integrity Check   10519   \n15                          Added Fetcher for ISIDORE   10518   \n16  Fix duplicate external file type issue when ch...   10496   \n17  Major refactoring of the citation relation tab...   10475   \n18                       [WIP] Extract PDF References   10437   \n19  Added option to treat all duplicate entries in...   10386   \n20                    Implement test cases for search   10193   \n21  Display files from referenced crossref in entr...    9717   \n22                              Lucene search backend    8963   \n23               WIP: Dbsync performance improvements    8496   \n24  Fix re-enabling \"Jump to entry\" for \"linked\" t...    8456   \n25             Prototype Implement better Search #341    8356   \n26                     Integration with JabRef online    7832   \n27  Add referenced entry's observers to update the...    7754   \n\n                                                 body state  \\\n0   ## Background\\r\\n\\r\\nI am so fed up that\\r\\n\\r...  open   \n1   <!-- \\r\\nDescribe the changes you have made he...  open   \n2   Fixes https://github.com/JabRef/jabref/issues/...  open   \n3   Continue to resolve koppor#348\\r\\n\\r\\nThe impl...  open   \n4   <!-- \\r\\nDescribe the changes you have made he...  open   \n5   <!-- \\r\\nDescribe the changes you have made he...  open   \n6   <!-- \\r\\nDescribe the changes you have made he...  open   \n7   <!-- \\r\\nDescribe the changes you have made he...  open   \n8   Resolves  #7731\\r\\nImproves code quality of - ...  open   \n9   <!-- \\r\\nDescribe the changes you have made he...  open   \n10  <!-- \\r\\nDescribe the changes you have made he...  open   \n11  Fixes https://github.com/koppor/jabref/issues/...  open   \n12  <!-- \\r\\nDescribe the changes you have made he...  open   \n13  <!-- \\r\\nDescribe the changes you have made he...  open   \n14  ** DRAFT **\\r\\n\\r\\nAdded new Checkers for book...  open   \n15  Added a fetcher for the webside ISIDORE, (http...  open   \n16  <!-- \\r\\nDescribe the changes you have made he...  open   \n17  Closes https://github.com/JabRef/jabref-issue-...  open   \n18  <!-- \\r\\nDescribe the changes you have made he...  open   \n19  <!-- \\r\\nDescribe the changes you have made he...  open   \n20  <!-- \\r\\nDescribe the changes you have made he...  open   \n21  Fixes #7731. \\r\\n\\r\\nNow display attached file...  open   \n22  First draft of the switch to the Lucene Search...  open   \n23  I could not push to the original one \\r\\nFollo...  open   \n24  <!-- \\r\\nDescribe the changes you have made he...  open   \n25  The issue was to implement a better search #Is...  open   \n26  This PR keeps track of the whole process to in...  open   \n27  <!-- \\r\\nDescribe the changes you have made he...  open   \n\n              created_at closed_at  \n0   2023-11-17T13:07:30Z      None  \n1   2023-11-06T07:44:50Z      None  \n2   2023-10-31T01:11:31Z      None  \n3   2023-10-27T19:46:48Z      None  \n4   2023-10-27T14:45:22Z      None  \n5   2023-10-25T22:04:55Z      None  \n6   2023-10-25T19:31:14Z      None  \n7   2023-10-25T07:10:34Z      None  \n8   2023-10-25T01:39:07Z      None  \n9   2023-10-24T07:04:41Z      None  \n10  2023-10-22T09:34:22Z      None  \n11  2023-10-22T08:04:00Z      None  \n12  2023-10-19T12:58:10Z      None  \n13  2023-10-18T18:32:54Z      None  \n14  2023-10-18T12:23:32Z      None  \n15  2023-10-18T11:38:20Z      None  \n16  2023-10-15T15:58:49Z      None  \n17  2023-10-10T12:09:19Z      None  \n18  2023-10-01T23:10:35Z      None  \n19  2023-09-16T01:07:50Z      None  \n20  2023-08-20T12:22:39Z      None  \n21  2023-03-31T09:22:05Z      None  \n22  2022-07-09T16:58:44Z      None  \n23  2022-02-09T19:06:38Z      None  \n24  2022-01-23T22:56:11Z      None  \n25  2021-12-22T19:45:53Z      None  \n26  2021-06-19T10:47:06Z      None  \n27  2021-05-19T05:09:57Z      None  ",
      "text/html": "<div>\n<style scoped>\n    .dataframe tbody tr th:only-of-type {\n        vertical-align: middle;\n    }\n\n    .dataframe tbody tr th {\n        vertical-align: top;\n    }\n\n    .dataframe thead th {\n        text-align: right;\n    }\n</style>\n<table border=\"1\" class=\"dataframe\">\n  <thead>\n    <tr style=\"text-align: right;\">\n      <th></th>\n      <th>title</th>\n      <th>number</th>\n      <th>body</th>\n      <th>state</th>\n      <th>created_at</th>\n      <th>closed_at</th>\n    </tr>\n  </thead>\n  <tbody>\n    <tr>\n      <th>0</th>\n      <td>Use Prettier Java for automatic code formatting</td>\n      <td>10646</td>\n      <td>## Background\\r\\n\\r\\nI am so fed up that\\r\\n\\r...</td>\n      <td>open</td>\n      <td>2023-11-17T13:07:30Z</td>\n      <td>None</td>\n    </tr>\n    <tr>\n      <th>1</th>\n      <td>Issue 10431 relevance star</td>\n      <td>10620</td>\n      <td>&lt;!-- \\r\\nDescribe the changes you have made he...</td>\n      <td>open</td>\n      <td>2023-11-06T07:44:50Z</td>\n      <td>None</td>\n    </tr>\n    <tr>\n      <th>2</th>\n      <td>Do not show user-specific comment as default</td>\n      <td>10610</td>\n      <td>Fixes https://github.com/JabRef/jabref/issues/...</td>\n      <td>open</td>\n      <td>2023-10-31T01:11:31Z</td>\n      <td>None</td>\n    </tr>\n    <tr>\n      <th>3</th>\n      <td>Predatory journal checker</td>\n      <td>10592</td>\n      <td>Continue to resolve koppor#348\\r\\n\\r\\nThe impl...</td>\n      <td>open</td>\n      <td>2023-10-27T19:46:48Z</td>\n      <td>None</td>\n    </tr>\n    <tr>\n      <th>4</th>\n      <td>Fix for delete entries should ask user</td>\n      <td>10591</td>\n      <td>&lt;!-- \\r\\nDescribe the changes you have made he...</td>\n      <td>open</td>\n      <td>2023-10-27T14:45:22Z</td>\n      <td>None</td>\n    </tr>\n    <tr>\n      <th>5</th>\n      <td>Add git support</td>\n      <td>10586</td>\n      <td>&lt;!-- \\r\\nDescribe the changes you have made he...</td>\n      <td>open</td>\n      <td>2023-10-25T22:04:55Z</td>\n      <td>None</td>\n    </tr>\n    <tr>\n      <th>6</th>\n      <td>[WIP] This relativizes the PDF's filepaths aft...</td>\n      <td>10582</td>\n      <td>&lt;!-- \\r\\nDescribe the changes you have made he...</td>\n      <td>open</td>\n      <td>2023-10-25T19:31:14Z</td>\n      <td>None</td>\n    </tr>\n    <tr>\n      <th>7</th>\n      <td>[WIP] Jump to entry cli</td>\n      <td>10578</td>\n      <td>&lt;!-- \\r\\nDescribe the changes you have made he...</td>\n      <td>open</td>\n      <td>2023-10-25T07:10:34Z</td>\n      <td>None</td>\n    </tr>\n    <tr>\n      <th>8</th>\n      <td>Display files from referenced crossref in entr...</td>\n      <td>10577</td>\n      <td>Resolves  #7731\\r\\nImproves code quality of - ...</td>\n      <td>open</td>\n      <td>2023-10-25T01:39:07Z</td>\n      <td>None</td>\n    </tr>\n    <tr>\n      <th>9</th>\n      <td>Spotbugs</td>\n      <td>10565</td>\n      <td>&lt;!-- \\r\\nDescribe the changes you have made he...</td>\n      <td>open</td>\n      <td>2023-10-24T07:04:41Z</td>\n      <td>None</td>\n    </tr>\n    <tr>\n      <th>10</th>\n      <td>Add support for LTWA (List of Title Word Abbre...</td>\n      <td>10541</td>\n      <td>&lt;!-- \\r\\nDescribe the changes you have made he...</td>\n      <td>open</td>\n      <td>2023-10-22T09:34:22Z</td>\n      <td>None</td>\n    </tr>\n    <tr>\n      <th>11</th>\n      <td>Implemented \"Welcome Interface for New Users\"</td>\n      <td>10540</td>\n      <td>Fixes https://github.com/koppor/jabref/issues/...</td>\n      <td>open</td>\n      <td>2023-10-22T08:04:00Z</td>\n      <td>None</td>\n    </tr>\n    <tr>\n      <th>12</th>\n      <td>Issue 9798: Relinking after moving</td>\n      <td>10526</td>\n      <td>&lt;!-- \\r\\nDescribe the changes you have made he...</td>\n      <td>open</td>\n      <td>2023-10-19T12:58:10Z</td>\n      <td>None</td>\n    </tr>\n    <tr>\n      <th>13</th>\n      <td>Add auto group colour assignment</td>\n      <td>10521</td>\n      <td>&lt;!-- \\r\\nDescribe the changes you have made he...</td>\n      <td>open</td>\n      <td>2023-10-18T18:32:54Z</td>\n      <td>None</td>\n    </tr>\n    <tr>\n      <th>14</th>\n      <td>Improving Booktitle Integrity Check</td>\n      <td>10519</td>\n      <td>** DRAFT **\\r\\n\\r\\nAdded new Checkers for book...</td>\n      <td>open</td>\n      <td>2023-10-18T12:23:32Z</td>\n      <td>None</td>\n    </tr>\n    <tr>\n      <th>15</th>\n      <td>Added Fetcher for ISIDORE</td>\n      <td>10518</td>\n      <td>Added a fetcher for the webside ISIDORE, (http...</td>\n      <td>open</td>\n      <td>2023-10-18T11:38:20Z</td>\n      <td>None</td>\n    </tr>\n    <tr>\n      <th>16</th>\n      <td>Fix duplicate external file type issue when ch...</td>\n      <td>10496</td>\n      <td>&lt;!-- \\r\\nDescribe the changes you have made he...</td>\n      <td>open</td>\n      <td>2023-10-15T15:58:49Z</td>\n      <td>None</td>\n    </tr>\n    <tr>\n      <th>17</th>\n      <td>Major refactoring of the citation relation tab...</td>\n      <td>10475</td>\n      <td>Closes https://github.com/JabRef/jabref-issue-...</td>\n      <td>open</td>\n      <td>2023-10-10T12:09:19Z</td>\n      <td>None</td>\n    </tr>\n    <tr>\n      <th>18</th>\n      <td>[WIP] Extract PDF References</td>\n      <td>10437</td>\n      <td>&lt;!-- \\r\\nDescribe the changes you have made he...</td>\n      <td>open</td>\n      <td>2023-10-01T23:10:35Z</td>\n      <td>None</td>\n    </tr>\n    <tr>\n      <th>19</th>\n      <td>Added option to treat all duplicate entries in...</td>\n      <td>10386</td>\n      <td>&lt;!-- \\r\\nDescribe the changes you have made he...</td>\n      <td>open</td>\n      <td>2023-09-16T01:07:50Z</td>\n      <td>None</td>\n    </tr>\n    <tr>\n      <th>20</th>\n      <td>Implement test cases for search</td>\n      <td>10193</td>\n      <td>&lt;!-- \\r\\nDescribe the changes you have made he...</td>\n      <td>open</td>\n      <td>2023-08-20T12:22:39Z</td>\n      <td>None</td>\n    </tr>\n    <tr>\n      <th>21</th>\n      <td>Display files from referenced crossref in entr...</td>\n      <td>9717</td>\n      <td>Fixes #7731. \\r\\n\\r\\nNow display attached file...</td>\n      <td>open</td>\n      <td>2023-03-31T09:22:05Z</td>\n      <td>None</td>\n    </tr>\n    <tr>\n      <th>22</th>\n      <td>Lucene search backend</td>\n      <td>8963</td>\n      <td>First draft of the switch to the Lucene Search...</td>\n      <td>open</td>\n      <td>2022-07-09T16:58:44Z</td>\n      <td>None</td>\n    </tr>\n    <tr>\n      <th>23</th>\n      <td>WIP: Dbsync performance improvements</td>\n      <td>8496</td>\n      <td>I could not push to the original one \\r\\nFollo...</td>\n      <td>open</td>\n      <td>2022-02-09T19:06:38Z</td>\n      <td>None</td>\n    </tr>\n    <tr>\n      <th>24</th>\n      <td>Fix re-enabling \"Jump to entry\" for \"linked\" t...</td>\n      <td>8456</td>\n      <td>&lt;!-- \\r\\nDescribe the changes you have made he...</td>\n      <td>open</td>\n      <td>2022-01-23T22:56:11Z</td>\n      <td>None</td>\n    </tr>\n    <tr>\n      <th>25</th>\n      <td>Prototype Implement better Search #341</td>\n      <td>8356</td>\n      <td>The issue was to implement a better search #Is...</td>\n      <td>open</td>\n      <td>2021-12-22T19:45:53Z</td>\n      <td>None</td>\n    </tr>\n    <tr>\n      <th>26</th>\n      <td>Integration with JabRef online</td>\n      <td>7832</td>\n      <td>This PR keeps track of the whole process to in...</td>\n      <td>open</td>\n      <td>2021-06-19T10:47:06Z</td>\n      <td>None</td>\n    </tr>\n    <tr>\n      <th>27</th>\n      <td>Add referenced entry's observers to update the...</td>\n      <td>7754</td>\n      <td>&lt;!-- \\r\\nDescribe the changes you have made he...</td>\n      <td>open</td>\n      <td>2021-05-19T05:09:57Z</td>\n      <td>None</td>\n    </tr>\n  </tbody>\n</table>\n</div>"
     },
     "execution_count": 14,
     "metadata": {},
     "output_type": "execute_result"
    }
   ],
   "source": [
    "# I have written a function to convert list of pull request data to pandas dataframe\n",
    "# We will need define more classes and methods to finish this project\n",
    "jabref_repo.pull_requests_to_pandas()"
   ],
   "metadata": {
    "collapsed": false
   }
  },
  {
   "cell_type": "code",
   "execution_count": null,
   "outputs": [],
   "source": [],
   "metadata": {
    "collapsed": false
   }
  }
 ],
 "metadata": {
  "kernelspec": {
   "display_name": "Python 3",
   "language": "python",
   "name": "python3"
  },
  "language_info": {
   "codemirror_mode": {
    "name": "ipython",
    "version": 2
   },
   "file_extension": ".py",
   "mimetype": "text/x-python",
   "name": "python",
   "nbconvert_exporter": "python",
   "pygments_lexer": "ipython2",
   "version": "2.7.6"
  }
 },
 "nbformat": 4,
 "nbformat_minor": 0
}
